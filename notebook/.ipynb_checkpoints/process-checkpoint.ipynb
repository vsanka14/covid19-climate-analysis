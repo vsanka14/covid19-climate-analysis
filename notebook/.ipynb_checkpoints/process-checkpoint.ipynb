{
 "cells": [
  {
   "cell_type": "code",
   "execution_count": 1,
   "metadata": {},
   "outputs": [],
   "source": [
    "import pandas as pd\n",
    "import os \n",
    "import json\n",
    "import datetime \n",
    "import numpy as np\n",
    "from statsmodels.regression.linear_model import OLS\n",
    "\n",
    "directory = '../data'\n",
    "all_dfs = {}\n",
    "aggregation_functions = {'Confirmed': 'sum', 'Deaths': 'sum', 'Recovered': 'sum', 'Province_State': 'first'}\n",
    "for filename in os.listdir(directory):\n",
    "    if not filename.startswith('.'):            \n",
    "        df = pd.read_csv(f'{directory}/{filename}')\n",
    "        cols = df.columns.values\n",
    "        for i in range(len(cols)):\n",
    "            if cols[i] == 'Province/State':\n",
    "                cols[i] = 'Province_State'\n",
    "            if cols[i] == 'Country/Region':\n",
    "                cols[i] = 'Country_Region'\n",
    "        df.columns = cols\n",
    "        df = df.loc[df['Country_Region'] == 'US']\n",
    "        df_new = df.groupby(df['Province_State']).aggregate(aggregation_functions)\n",
    "        all_dfs[filename.replace('.csv', '')] = df_new"
   ]
  },
  {
   "cell_type": "code",
   "execution_count": 2,
   "metadata": {},
   "outputs": [],
   "source": [
    "states = ['Alabama','Alaska','Arizona','Arkansas','California','Colorado','Connecticut','Delaware','Florida','Georgia','Hawaii','Idaho','Illinois','Indiana','Iowa','Kansas','Kentucky','Louisiana','Maine','Maryland','Massachusetts','Michigan','Minnesota','Mississippi','Missouri','Montana','Nebraska','Nevada','New Hampshire','New Jersey','New Mexico','New York','North Carolina','North Dakota','Ohio','Oklahoma','Oregon','Pennsylvania','Rhode Island','South Carolina','South Dakota','Tennessee','Texas','Utah','Vermont','Virginia','Washington','West Virginia','Wisconsin','Wyoming']\n",
    "states_data = {}\n",
    "for state in states:\n",
    "    states_data[state] = []\n",
    "for date in all_dfs:\n",
    "    df = all_dfs[date]\n",
    "    for state in states:\n",
    "        state_dict = {}\n",
    "        state_df = df.loc[df['Province_State']==state]\n",
    "        state_dict['date'] = date\n",
    "        state_dict['confirmed'] = 0\n",
    "        if len(list(state_df['Confirmed'])) > 0:\n",
    "            state_dict['confirmed'] = list(state_df['Confirmed'])[0]\n",
    "        states_data[state].append(state_dict)"
   ]
  },
  {
   "cell_type": "code",
   "execution_count": 3,
   "metadata": {},
   "outputs": [],
   "source": [
    "states_df = {}\n",
    "for state in states_data:\n",
    "    df = pd.DataFrame(states_data[state])\n",
    "    states_df[state] = df"
   ]
  },
  {
   "cell_type": "code",
   "execution_count": 4,
   "metadata": {},
   "outputs": [],
   "source": [
    "def calc_avg(weather_data, date, field):\n",
    "    tod = datetime.datetime.strptime(date, '%m-%d-%Y')\n",
    "    no_of_days = 14\n",
    "    d = datetime.timedelta(days = no_of_days)\n",
    "    sum = 0\n",
    "    while(no_of_days > 0):\n",
    "        a = (tod - d).strftime('%m-%d-%Y')\n",
    "        try:\n",
    "            sum +=  int(weather_data[a][field])\n",
    "        except:\n",
    "            print('exception: ', weather_data[a], a)\n",
    "        no_of_days -= 1\n",
    "    return sum/14\n",
    "\n",
    "def add_temp_and_humidity(state):\n",
    "    weather_data = None\n",
    "    with open(f'../weather_data/{state}.json') as f:\n",
    "      weather_data = json.load(f)\n",
    "    states_df[state]['max_temp'] = states_df[state]['date'].map(lambda x: calc_avg(weather_data, x, 'maxTemp'))\n",
    "    states_df[state]['humidity'] = states_df[state]['date'].map(lambda x: calc_avg(weather_data, x, 'maxHumidity'))\n",
    "\n",
    "def add_new_cases(state):\n",
    "    l=[]\n",
    "    for x,y in enumerate(states_df[state]['confirmed']):\n",
    "        if x ==0: \n",
    "           l.append(y)\n",
    "        else : \n",
    "           l.append(y-l[x-1])\n",
    "    states_df[state]['new_cases'] = l "
   ]
  },
  {
   "cell_type": "code",
   "execution_count": 5,
   "metadata": {},
   "outputs": [],
   "source": [
    "def create_scaled_df(df):\n",
    "    #Create new dataframe with desired columns \n",
    "    y = np.log(df.iloc[:, -1]) #take log of number of cases\n",
    "    y.name = 'Infected cases' \n",
    "    y = y.to_frame()\n",
    "\n",
    "    #Temperature and Humidity parameter to toggle\n",
    "    temp = 60\n",
    "    humid = 75\n",
    "\n",
    "    #create features with max temperature - 15 and humidity - 75\n",
    "    x = df[['max_temp', 'humidity']].sub([temp, humid])  \n",
    "    x.columns = ['Temp - 60F', 'Humidity - 75%']\n",
    "\n",
    "    scaled_df = pd.merge(left = x, right = y, left_on= x.index, right_on= y.index)\n",
    "    return scaled_df"
   ]
  },
  {
   "cell_type": "code",
   "execution_count": 6,
   "metadata": {},
   "outputs": [],
   "source": [
    "def prepare_state_df(state):\n",
    "    states_df[state]['datetime'] = states_df[state]['date'].map(lambda x: datetime.datetime.strptime(x, '%m-%d-%Y'))\n",
    "    states_df[state] = states_df[state].sort_values(by='datetime')\n",
    "    add_temp_and_humidity(state)\n",
    "    add_new_cases(state)\n",
    "    state_df = create_scaled_df(states_df[state])\n",
    "    return state_df"
   ]
  },
  {
   "cell_type": "code",
   "execution_count": 7,
   "metadata": {},
   "outputs": [],
   "source": [
    "ny_df = prepare_state_df('California')"
   ]
  },
  {
   "cell_type": "code",
   "execution_count": 8,
   "metadata": {},
   "outputs": [],
   "source": [
    "target = ny_df.loc[:,'Infected cases']\n",
    "features = ny_df.loc[:, 'Temp - 60F':'Humidity - 75%']\n",
    "result = OLS(target, features, hasconst=False).fit()"
   ]
  },
  {
   "cell_type": "code",
   "execution_count": 9,
   "metadata": {},
   "outputs": [
    {
     "data": {
      "text/html": [
       "<table class=\"simpletable\">\n",
       "<caption>OLS Regression Results</caption>\n",
       "<tr>\n",
       "  <th>Dep. Variable:</th>     <td>Infected cases</td>  <th>  R-squared:         </th> <td>   0.429</td>\n",
       "</tr>\n",
       "<tr>\n",
       "  <th>Model:</th>                   <td>OLS</td>       <th>  Adj. R-squared:    </th> <td>   0.369</td>\n",
       "</tr>\n",
       "<tr>\n",
       "  <th>Method:</th>             <td>Least Squares</td>  <th>  F-statistic:       </th> <td>   7.132</td>\n",
       "</tr>\n",
       "<tr>\n",
       "  <th>Date:</th>             <td>Wed, 01 Apr 2020</td> <th>  Prob (F-statistic):</th>  <td>0.00489</td>\n",
       "</tr>\n",
       "<tr>\n",
       "  <th>Time:</th>                 <td>18:09:16</td>     <th>  Log-Likelihood:    </th> <td> -68.012</td>\n",
       "</tr>\n",
       "<tr>\n",
       "  <th>No. Observations:</th>      <td>    21</td>      <th>  AIC:               </th> <td>   140.0</td>\n",
       "</tr>\n",
       "<tr>\n",
       "  <th>Df Residuals:</th>          <td>    19</td>      <th>  BIC:               </th> <td>   142.1</td>\n",
       "</tr>\n",
       "<tr>\n",
       "  <th>Df Model:</th>              <td>     2</td>      <th>                     </th>     <td> </td>   \n",
       "</tr>\n",
       "<tr>\n",
       "  <th>Covariance Type:</th>      <td>nonrobust</td>    <th>                     </th>     <td> </td>   \n",
       "</tr>\n",
       "</table>\n",
       "<table class=\"simpletable\">\n",
       "<tr>\n",
       "         <td></td>           <th>coef</th>     <th>std err</th>      <th>t</th>      <th>P>|t|</th>  <th>[0.025</th>    <th>0.975]</th>  \n",
       "</tr>\n",
       "<tr>\n",
       "  <th>Temp - 60F</th>     <td>   -0.4139</td> <td>    0.122</td> <td>   -3.403</td> <td> 0.003</td> <td>   -0.668</td> <td>   -0.159</td>\n",
       "</tr>\n",
       "<tr>\n",
       "  <th>Humidity - 75%</th> <td>    0.0953</td> <td>    0.074</td> <td>    1.295</td> <td> 0.211</td> <td>   -0.059</td> <td>    0.249</td>\n",
       "</tr>\n",
       "</table>\n",
       "<table class=\"simpletable\">\n",
       "<tr>\n",
       "  <th>Omnibus:</th>       <td> 4.195</td> <th>  Durbin-Watson:     </th> <td>   0.343</td>\n",
       "</tr>\n",
       "<tr>\n",
       "  <th>Prob(Omnibus):</th> <td> 0.123</td> <th>  Jarque-Bera (JB):  </th> <td>   1.777</td>\n",
       "</tr>\n",
       "<tr>\n",
       "  <th>Skew:</th>          <td> 0.351</td> <th>  Prob(JB):          </th> <td>   0.411</td>\n",
       "</tr>\n",
       "<tr>\n",
       "  <th>Kurtosis:</th>      <td> 1.760</td> <th>  Cond. No.          </th> <td>    1.67</td>\n",
       "</tr>\n",
       "</table><br/><br/>Warnings:<br/>[1] Standard Errors assume that the covariance matrix of the errors is correctly specified."
      ],
      "text/plain": [
       "<class 'statsmodels.iolib.summary.Summary'>\n",
       "\"\"\"\n",
       "                            OLS Regression Results                            \n",
       "==============================================================================\n",
       "Dep. Variable:         Infected cases   R-squared:                       0.429\n",
       "Model:                            OLS   Adj. R-squared:                  0.369\n",
       "Method:                 Least Squares   F-statistic:                     7.132\n",
       "Date:                Wed, 01 Apr 2020   Prob (F-statistic):            0.00489\n",
       "Time:                        18:09:16   Log-Likelihood:                -68.012\n",
       "No. Observations:                  21   AIC:                             140.0\n",
       "Df Residuals:                      19   BIC:                             142.1\n",
       "Df Model:                           2                                         \n",
       "Covariance Type:            nonrobust                                         \n",
       "==================================================================================\n",
       "                     coef    std err          t      P>|t|      [0.025      0.975]\n",
       "----------------------------------------------------------------------------------\n",
       "Temp - 60F        -0.4139      0.122     -3.403      0.003      -0.668      -0.159\n",
       "Humidity - 75%     0.0953      0.074      1.295      0.211      -0.059       0.249\n",
       "==============================================================================\n",
       "Omnibus:                        4.195   Durbin-Watson:                   0.343\n",
       "Prob(Omnibus):                  0.123   Jarque-Bera (JB):                1.777\n",
       "Skew:                           0.351   Prob(JB):                        0.411\n",
       "Kurtosis:                       1.760   Cond. No.                         1.67\n",
       "==============================================================================\n",
       "\n",
       "Warnings:\n",
       "[1] Standard Errors assume that the covariance matrix of the errors is correctly specified.\n",
       "\"\"\""
      ]
     },
     "execution_count": 9,
     "metadata": {},
     "output_type": "execute_result"
    }
   ],
   "source": [
    "result.summary()"
   ]
  },
  {
   "cell_type": "code",
   "execution_count": 18,
   "metadata": {},
   "outputs": [
    {
     "data": {
      "text/plain": [
       "<matplotlib.axes._subplots.AxesSubplot at 0x11d99b550>"
      ]
     },
     "execution_count": 18,
     "metadata": {},
     "output_type": "execute_result"
    },
    {
     "data": {
      "image/png": "[encoded data removed]",
      "text/plain": [
       "<Figure size 432x288 with 1 Axes>"
      ]
     },
     "metadata": {},
     "output_type": "display_data"
    }
   ],
   "source": [
    "import seaborn as sns\n",
    "sns.regplot(x=features.iloc[:,0], y=target, data=ny_df)"
   ]
  },
  {
   "cell_type": "code",
   "execution_count": 19,
   "metadata": {},
   "outputs": [
    {
     "data": {
      "text/plain": [
       "<matplotlib.axes._subplots.AxesSubplot at 0x11d9722e8>"
      ]
     },
     "execution_count": 19,
     "metadata": {},
     "output_type": "execute_result"
    },
    {
     "data": {
      "image/png": "[encoded data removed]",
      "text/plain": [
       "<Figure size 432x288 with 1 Axes>"
      ]
     },
     "metadata": {},
     "output_type": "display_data"
    }
   ],
   "source": [
    "sns.regplot(x=features.iloc[:,1], y=target, data=ny_df)"
   ]
  },
  {
   "cell_type": "code",
   "execution_count": 20,
   "metadata": {},
   "outputs": [
    {
     "data": {
      "text/plain": [
       "-33.890412218719455"
      ]
     },
     "execution_count": 20,
     "metadata": {},
     "output_type": "execute_result"
    }
   ],
   "source": [
    "temp_effect = (np.exp(result.params[0]) - 1) * 100\n",
    "temp_effect"
   ]
  },
  {
   "cell_type": "code",
   "execution_count": 21,
   "metadata": {},
   "outputs": [
    {
     "data": {
      "text/plain": [
       "9.998057448200193"
      ]
     },
     "execution_count": 21,
     "metadata": {},
     "output_type": "execute_result"
    }
   ],
   "source": [
    "humid_effect = (np.exp(result.params[1]) - 1) * 100\n",
    "humid_effect"
   ]
  },
  {
   "cell_type": "code",
   "execution_count": 23,
   "metadata": {},
   "outputs": [
    {
     "data": {
      "text/html": [
       "<div>\n",
       "<style scoped>\n",
       "    .dataframe tbody tr th:only-of-type {\n",
       "        vertical-align: middle;\n",
       "    }\n",
       "\n",
       "    .dataframe tbody tr th {\n",
       "        vertical-align: top;\n",
       "    }\n",
       "\n",
       "    .dataframe thead th {\n",
       "        text-align: right;\n",
       "    }\n",
       "</style>\n",
       "<table border=\"1\" class=\"dataframe\">\n",
       "  <thead>\n",
       "    <tr style=\"text-align: right;\">\n",
       "      <th></th>\n",
       "      <th>confirmed</th>\n",
       "      <th>date</th>\n",
       "      <th>datetime</th>\n",
       "      <th>max_temp</th>\n",
       "      <th>humidity</th>\n",
       "      <th>new_cases</th>\n",
       "    </tr>\n",
       "  </thead>\n",
       "  <tbody>\n",
       "    <tr>\n",
       "      <th>2</th>\n",
       "      <td>173</td>\n",
       "      <td>03-10-2020</td>\n",
       "      <td>2020-03-10</td>\n",
       "      <td>49.0</td>\n",
       "      <td>100.0</td>\n",
       "      <td>173</td>\n",
       "    </tr>\n",
       "    <tr>\n",
       "      <th>3</th>\n",
       "      <td>220</td>\n",
       "      <td>03-11-2020</td>\n",
       "      <td>2020-03-11</td>\n",
       "      <td>48.0</td>\n",
       "      <td>100.0</td>\n",
       "      <td>47</td>\n",
       "    </tr>\n",
       "    <tr>\n",
       "      <th>12</th>\n",
       "      <td>328</td>\n",
       "      <td>03-12-2020</td>\n",
       "      <td>2020-03-12</td>\n",
       "      <td>47.0</td>\n",
       "      <td>100.0</td>\n",
       "      <td>281</td>\n",
       "    </tr>\n",
       "    <tr>\n",
       "      <th>11</th>\n",
       "      <td>421</td>\n",
       "      <td>03-13-2020</td>\n",
       "      <td>2020-03-13</td>\n",
       "      <td>41.0</td>\n",
       "      <td>52.0</td>\n",
       "      <td>140</td>\n",
       "    </tr>\n",
       "    <tr>\n",
       "      <th>17</th>\n",
       "      <td>525</td>\n",
       "      <td>03-14-2020</td>\n",
       "      <td>2020-03-14</td>\n",
       "      <td>36.0</td>\n",
       "      <td>49.0</td>\n",
       "      <td>385</td>\n",
       "    </tr>\n",
       "    <tr>\n",
       "      <th>18</th>\n",
       "      <td>732</td>\n",
       "      <td>03-15-2020</td>\n",
       "      <td>2020-03-15</td>\n",
       "      <td>44.0</td>\n",
       "      <td>67.0</td>\n",
       "      <td>347</td>\n",
       "    </tr>\n",
       "    <tr>\n",
       "      <th>7</th>\n",
       "      <td>967</td>\n",
       "      <td>03-16-2020</td>\n",
       "      <td>2020-03-16</td>\n",
       "      <td>51.0</td>\n",
       "      <td>85.0</td>\n",
       "      <td>620</td>\n",
       "    </tr>\n",
       "    <tr>\n",
       "      <th>6</th>\n",
       "      <td>1706</td>\n",
       "      <td>03-17-2020</td>\n",
       "      <td>2020-03-17</td>\n",
       "      <td>53.0</td>\n",
       "      <td>100.0</td>\n",
       "      <td>1086</td>\n",
       "    </tr>\n",
       "    <tr>\n",
       "      <th>14</th>\n",
       "      <td>2495</td>\n",
       "      <td>03-18-2020</td>\n",
       "      <td>2020-03-18</td>\n",
       "      <td>56.0</td>\n",
       "      <td>89.0</td>\n",
       "      <td>1409</td>\n",
       "    </tr>\n",
       "    <tr>\n",
       "      <th>13</th>\n",
       "      <td>5365</td>\n",
       "      <td>03-19-2020</td>\n",
       "      <td>2020-03-19</td>\n",
       "      <td>50.0</td>\n",
       "      <td>86.0</td>\n",
       "      <td>3956</td>\n",
       "    </tr>\n",
       "    <tr>\n",
       "      <th>19</th>\n",
       "      <td>8310</td>\n",
       "      <td>03-20-2020</td>\n",
       "      <td>2020-03-20</td>\n",
       "      <td>47.0</td>\n",
       "      <td>100.0</td>\n",
       "      <td>4354</td>\n",
       "    </tr>\n",
       "    <tr>\n",
       "      <th>20</th>\n",
       "      <td>11710</td>\n",
       "      <td>03-21-2020</td>\n",
       "      <td>2020-03-21</td>\n",
       "      <td>47.0</td>\n",
       "      <td>89.0</td>\n",
       "      <td>7356</td>\n",
       "    </tr>\n",
       "    <tr>\n",
       "      <th>5</th>\n",
       "      <td>15800</td>\n",
       "      <td>03-22-2020</td>\n",
       "      <td>2020-03-22</td>\n",
       "      <td>55.0</td>\n",
       "      <td>56.0</td>\n",
       "      <td>8444</td>\n",
       "    </tr>\n",
       "    <tr>\n",
       "      <th>4</th>\n",
       "      <td>20884</td>\n",
       "      <td>03-23-2020</td>\n",
       "      <td>2020-03-23</td>\n",
       "      <td>64.0</td>\n",
       "      <td>80.0</td>\n",
       "      <td>12440</td>\n",
       "    </tr>\n",
       "    <tr>\n",
       "      <th>0</th>\n",
       "      <td>25681</td>\n",
       "      <td>03-24-2020</td>\n",
       "      <td>2020-03-24</td>\n",
       "      <td>63.0</td>\n",
       "      <td>86.0</td>\n",
       "      <td>13241</td>\n",
       "    </tr>\n",
       "    <tr>\n",
       "      <th>1</th>\n",
       "      <td>30841</td>\n",
       "      <td>03-25-2020</td>\n",
       "      <td>2020-03-25</td>\n",
       "      <td>59.0</td>\n",
       "      <td>69.0</td>\n",
       "      <td>17600</td>\n",
       "    </tr>\n",
       "    <tr>\n",
       "      <th>16</th>\n",
       "      <td>37877</td>\n",
       "      <td>03-26-2020</td>\n",
       "      <td>2020-03-26</td>\n",
       "      <td>47.0</td>\n",
       "      <td>100.0</td>\n",
       "      <td>20277</td>\n",
       "    </tr>\n",
       "    <tr>\n",
       "      <th>15</th>\n",
       "      <td>44876</td>\n",
       "      <td>03-27-2020</td>\n",
       "      <td>2020-03-27</td>\n",
       "      <td>71.0</td>\n",
       "      <td>100.0</td>\n",
       "      <td>24599</td>\n",
       "    </tr>\n",
       "    <tr>\n",
       "      <th>9</th>\n",
       "      <td>44876</td>\n",
       "      <td>03-28-2020</td>\n",
       "      <td>2020-03-28</td>\n",
       "      <td>56.0</td>\n",
       "      <td>43.0</td>\n",
       "      <td>20277</td>\n",
       "    </tr>\n",
       "    <tr>\n",
       "      <th>8</th>\n",
       "      <td>59648</td>\n",
       "      <td>03-29-2020</td>\n",
       "      <td>2020-03-29</td>\n",
       "      <td>53.0</td>\n",
       "      <td>73.0</td>\n",
       "      <td>39371</td>\n",
       "    </tr>\n",
       "    <tr>\n",
       "      <th>10</th>\n",
       "      <td>66663</td>\n",
       "      <td>03-30-2020</td>\n",
       "      <td>2020-03-30</td>\n",
       "      <td>44.0</td>\n",
       "      <td>79.0</td>\n",
       "      <td>27292</td>\n",
       "    </tr>\n",
       "  </tbody>\n",
       "</table>\n",
       "</div>"
      ],
      "text/plain": [
       "    confirmed        date   datetime  max_temp  humidity  new_cases\n",
       "2         173  03-10-2020 2020-03-10      49.0     100.0        173\n",
       "3         220  03-11-2020 2020-03-11      48.0     100.0         47\n",
       "12        328  03-12-2020 2020-03-12      47.0     100.0        281\n",
       "11        421  03-13-2020 2020-03-13      41.0      52.0        140\n",
       "17        525  03-14-2020 2020-03-14      36.0      49.0        385\n",
       "18        732  03-15-2020 2020-03-15      44.0      67.0        347\n",
       "7         967  03-16-2020 2020-03-16      51.0      85.0        620\n",
       "6        1706  03-17-2020 2020-03-17      53.0     100.0       1086\n",
       "14       2495  03-18-2020 2020-03-18      56.0      89.0       1409\n",
       "13       5365  03-19-2020 2020-03-19      50.0      86.0       3956\n",
       "19       8310  03-20-2020 2020-03-20      47.0     100.0       4354\n",
       "20      11710  03-21-2020 2020-03-21      47.0      89.0       7356\n",
       "5       15800  03-22-2020 2020-03-22      55.0      56.0       8444\n",
       "4       20884  03-23-2020 2020-03-23      64.0      80.0      12440\n",
       "0       25681  03-24-2020 2020-03-24      63.0      86.0      13241\n",
       "1       30841  03-25-2020 2020-03-25      59.0      69.0      17600\n",
       "16      37877  03-26-2020 2020-03-26      47.0     100.0      20277\n",
       "15      44876  03-27-2020 2020-03-27      71.0     100.0      24599\n",
       "9       44876  03-28-2020 2020-03-28      56.0      43.0      20277\n",
       "8       59648  03-29-2020 2020-03-29      53.0      73.0      39371\n",
       "10      66663  03-30-2020 2020-03-30      44.0      79.0      27292"
      ]
     },
     "execution_count": 23,
     "metadata": {},
     "output_type": "execute_result"
    }
   ],
   "source": [
    "states_df['New York']"
   ]
  },
  {
   "cell_type": "code",
   "execution_count": null,
   "metadata": {},
   "outputs": [],
   "source": []
  }
 ],
 "metadata": {
  "kernelspec": {
   "display_name": "Python 3",
   "language": "python",
   "name": "python3"
  },
  "language_info": {
   "codemirror_mode": {
    "name": "ipython",
    "version": 3
   },
   "file_extension": ".py",
   "mimetype": "text/x-python",
   "name": "python",
   "nbconvert_exporter": "python",
   "pygments_lexer": "ipython3",
   "version": "3.6.8"
  }
 },
 "nbformat": 4,
 "nbformat_minor": 2
}
