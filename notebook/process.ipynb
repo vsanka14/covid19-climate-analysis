{
 "cells": [
  {
   "cell_type": "code",
   "execution_count": 1,
   "metadata": {},
   "outputs": [],
   "source": [
    "import pandas as pd\n",
    "import os \n",
    "import json\n",
    "import datetime \n",
    "import numpy as np\n",
    "from statsmodels.regression.linear_model import OLS\n",
    "import seaborn as sns\n",
    "\n",
    "directory = '../data'\n",
    "all_dfs = {}\n",
    "aggregation_functions = {'Confirmed': 'sum', 'Deaths': 'sum', 'Recovered': 'sum', 'Province_State': 'first'}\n",
    "for filename in os.listdir(directory):\n",
    "    if not filename.startswith('.'):            \n",
    "        df = pd.read_csv(f'{directory}/{filename}')\n",
    "        cols = df.columns.values\n",
    "        for i in range(len(cols)):\n",
    "            if cols[i] == 'Province/State':\n",
    "                cols[i] = 'Province_State'\n",
    "            if cols[i] == 'Country/Region':\n",
    "                cols[i] = 'Country_Region'\n",
    "        df.columns = cols\n",
    "        df = df.loc[df['Country_Region'] == 'US']\n",
    "        df_new = df.groupby(df['Province_State']).aggregate(aggregation_functions)\n",
    "        all_dfs[filename.replace('.csv', '')] = df_new"
   ]
  },
  {
   "cell_type": "code",
   "execution_count": 2,
   "metadata": {},
   "outputs": [],
   "source": [
    "states = ['Alabama','Alaska','Arizona','Arkansas','California','Colorado','Connecticut','Delaware','Florida','Georgia','Hawaii','Idaho','Illinois','Indiana','Iowa','Kansas','Kentucky','Louisiana','Maine','Maryland','Massachusetts','Michigan','Minnesota','Mississippi','Missouri','Montana','Nebraska','Nevada','New Hampshire','New Jersey','New Mexico','New York','North Carolina','North Dakota','Ohio','Oklahoma','Oregon','Pennsylvania','Rhode Island','South Carolina','South Dakota','Tennessee','Texas','Utah','Vermont','Virginia','Washington','West Virginia','Wisconsin','Wyoming']\n",
    "states_data = {}\n",
    "for state in states:\n",
    "    states_data[state] = []\n",
    "for date in all_dfs:\n",
    "    df = all_dfs[date]\n",
    "    for state in states:\n",
    "        state_dict = {}\n",
    "        state_df = df.loc[df['Province_State']==state]\n",
    "        state_dict['date'] = date\n",
    "        state_dict['confirmed'] = 0\n",
    "        if len(list(state_df['Confirmed'])) > 0:\n",
    "            state_dict['confirmed'] = list(state_df['Confirmed'])[0]\n",
    "        states_data[state].append(state_dict)"
   ]
  },
  {
   "cell_type": "code",
   "execution_count": 3,
   "metadata": {},
   "outputs": [],
   "source": [
    "states_df = {}\n",
    "for state in states_data:\n",
    "    df = pd.DataFrame(states_data[state])\n",
    "    states_df[state] = df"
   ]
  },
  {
   "cell_type": "code",
   "execution_count": 4,
   "metadata": {},
   "outputs": [],
   "source": [
    "def calc_avg(weather_data, date, field):\n",
    "    tod = datetime.datetime.strptime(date, '%m-%d-%Y')\n",
    "    no_of_days = 14\n",
    "    d = datetime.timedelta(days = no_of_days)\n",
    "    sum = 0\n",
    "    while(no_of_days > 0):\n",
    "        a = (tod - d).strftime('%m-%d-%Y')\n",
    "        try:\n",
    "            sum +=  int(weather_data[a][field])\n",
    "        except:\n",
    "            print('exception: ', weather_data[a], a)\n",
    "        no_of_days -= 1\n",
    "    return sum/14\n",
    "\n",
    "def add_temp_and_humidity(state):\n",
    "    weather_data = None\n",
    "    with open(f'../weather_data/{state}.json') as f:\n",
    "      weather_data = json.load(f)\n",
    "    states_df[state]['max_temp'] = states_df[state]['date'].map(lambda x: calc_avg(weather_data, x, 'maxTemp'))\n",
    "    states_df[state]['humidity'] = states_df[state]['date'].map(lambda x: calc_avg(weather_data, x, 'maxHumidity'))\n",
    "\n",
    "def add_new_cases(state):\n",
    "    l=[]\n",
    "    for x,y in enumerate(states_df[state]['confirmed']):\n",
    "        if x ==0: \n",
    "           l.append(y)\n",
    "        else : \n",
    "           l.append(y-l[x-1])\n",
    "    states_df[state]['new_cases'] = l "
   ]
  },
  {
   "cell_type": "code",
   "execution_count": 5,
   "metadata": {},
   "outputs": [],
   "source": [
    "def create_scaled_df(df):\n",
    "    #Create new dataframe with desired columns \n",
    "    y = np.log(df.iloc[:, -1]) #take log of number of cases\n",
    "    y.name = 'Infected cases' \n",
    "    y = y.to_frame()\n",
    "    #Temperature and Humidity parameter to toggle\n",
    "    temp = 60\n",
    "    humid = 75\n",
    "\n",
    "    #create features with max temperature - 15 and humidity - 75\n",
    "    x = df[['max_temp', 'humidity']].sub([temp, humid])  \n",
    "    x.columns = ['Temp - 60F', 'Humidity - 75%']\n",
    "\n",
    "    scaled_df = pd.merge(left = x, right = y, left_on= x.index, right_on= y.index)\n",
    "    scaled_df = scaled_df.replace([np.inf, -np.inf], 0)\n",
    "    return scaled_df"
   ]
  },
  {
   "cell_type": "code",
   "execution_count": 6,
   "metadata": {},
   "outputs": [],
   "source": [
    "def prepare_state_df(state):\n",
    "    states_df[state]['datetime'] = states_df[state]['date'].map(lambda x: datetime.datetime.strptime(x, '%m-%d-%Y'))\n",
    "    states_df[state] = states_df[state].sort_values(by='datetime')\n",
    "    add_temp_and_humidity(state)\n",
    "    add_new_cases(state)\n",
    "    state_df = create_scaled_df(states_df[state])\n",
    "    return state_df"
   ]
  },
  {
   "cell_type": "code",
   "execution_count": 18,
   "metadata": {},
   "outputs": [
    {
     "data": {
      "text/plain": [
       "2     2.564949\n",
       "3     3.044522\n",
       "12    3.295837\n",
       "11    3.761200\n",
       "17    4.043051\n",
       "18    4.276666\n",
       "7     4.442651\n",
       "6     4.700480\n",
       "14    5.153292\n",
       "13    5.560682\n",
       "19    5.976351\n",
       "20    6.364751\n",
       "5     6.466145\n",
       "4     6.630683\n",
       "0     6.861711\n",
       "1     7.113956\n",
       "16    7.354362\n",
       "15    7.568896\n",
       "9     7.568896\n",
       "8     7.934513\n",
       "10    8.054205\n",
       "Name: confirmed, dtype: float64"
      ]
     },
     "execution_count": 18,
     "metadata": {},
     "output_type": "execute_result"
    }
   ],
   "source": [
    "# scaled_dfs = []\n",
    "# for state in states_data:\n",
    "#     scaled_df = prepare_state_df(state)\n",
    "#     scaled_dfs.append(scaled_df)\n",
    "# scaled_dfs[0]\n",
    "np.log(states_df['Texas']['confirmed'])"
   ]
  },
  {
   "cell_type": "code",
   "execution_count": null,
   "metadata": {},
   "outputs": [],
   "source": [
    "target = ny_df.loc[:,'Infected cases']\n",
    "features = ny_df.loc[:, 'Temp - 60F':'Humidity - 75%']\n",
    "result = OLS(target, features, hasconst=False).fit()"
   ]
  },
  {
   "cell_type": "code",
   "execution_count": null,
   "metadata": {},
   "outputs": [],
   "source": [
    "result.summary()"
   ]
  },
  {
   "cell_type": "code",
   "execution_count": null,
   "metadata": {},
   "outputs": [],
   "source": [
    "sns.regplot(x=features.iloc[:,0], y=target, data=ny_df)"
   ]
  },
  {
   "cell_type": "code",
   "execution_count": null,
   "metadata": {},
   "outputs": [],
   "source": [
    "sns.regplot(x=features.iloc[:,1], y=target, data=ny_df)"
   ]
  },
  {
   "cell_type": "code",
   "execution_count": null,
   "metadata": {},
   "outputs": [],
   "source": [
    "temp_effect = (np.exp(result.params[0]) - 1) * 100\n",
    "temp_effect"
   ]
  },
  {
   "cell_type": "code",
   "execution_count": null,
   "metadata": {},
   "outputs": [],
   "source": [
    "humid_effect = (np.exp(result.params[1]) - 1) * 100\n",
    "humid_effect"
   ]
  },
  {
   "cell_type": "code",
   "execution_count": null,
   "metadata": {},
   "outputs": [],
   "source": [
    "np.exp(result.params[0])*100"
   ]
  },
  {
   "cell_type": "code",
   "execution_count": null,
   "metadata": {},
   "outputs": [],
   "source": [
    "result.params"
   ]
  },
  {
   "cell_type": "code",
   "execution_count": null,
   "metadata": {},
   "outputs": [],
   "source": [
    "ny_df"
   ]
  },
  {
   "cell_type": "code",
   "execution_count": null,
   "metadata": {},
   "outputs": [],
   "source": [
    "states_df['California']"
   ]
  },
  {
   "cell_type": "code",
   "execution_count": null,
   "metadata": {},
   "outputs": [],
   "source": []
  },
  {
   "cell_type": "code",
   "execution_count": null,
   "metadata": {},
   "outputs": [],
   "source": [
    "np.log(0)"
   ]
  },
  {
   "cell_type": "code",
   "execution_count": null,
   "metadata": {},
   "outputs": [],
   "source": []
  },
  {
   "cell_type": "code",
   "execution_count": null,
   "metadata": {},
   "outputs": [],
   "source": []
  },
  {
   "cell_type": "code",
   "execution_count": null,
   "metadata": {},
   "outputs": [],
   "source": []
  },
  {
   "cell_type": "code",
   "execution_count": null,
   "metadata": {},
   "outputs": [],
   "source": []
  },
  {
   "cell_type": "code",
   "execution_count": null,
   "metadata": {},
   "outputs": [],
   "source": []
  }
 ],
 "metadata": {
  "kernelspec": {
   "display_name": "Python 3",
   "language": "python",
   "name": "python3"
  },
  "language_info": {
   "codemirror_mode": {
    "name": "ipython",
    "version": 3
   },
   "file_extension": ".py",
   "mimetype": "text/x-python",
   "name": "python",
   "nbconvert_exporter": "python",
   "pygments_lexer": "ipython3",
   "version": "3.6.8"
  }
 },
 "nbformat": 4,
 "nbformat_minor": 2
}
